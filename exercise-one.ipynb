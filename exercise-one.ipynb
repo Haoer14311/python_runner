{
 "cells": [
  {
   "cell_type": "markdown",
   "metadata": {},
   "source": [
    "# 单科学生成绩计算器"
   ]
  },
  {
   "cell_type": "code",
   "execution_count": 2,
   "metadata": {},
   "outputs": [
    {
     "name": "stdout",
     "output_type": "stream",
     "text": [
      "please fill in your people:1\n",
      "please fill in your score :1\n",
      "总分： 1.0\n",
      "平均分： 1.0\n"
     ]
    }
   ],
   "source": [
    "score = []\n",
    "\n",
    "x = input (\"please fill in your people:\")\n",
    "x = int(x)   # 忘记x等值符要换成数值\n",
    "\n",
    "for sc in range (1,x+1):\n",
    "    score1 = input (\"please fill in your score :\")\n",
    "    score1 = float (score1)\n",
    "    score.append(score1)   #score不变太乱，系统无法识别\n",
    "                            # 并且也没记住append方法的用法\n",
    "\n",
    "tot = sum (score)        # 没记住sum函数的用法\n",
    "\n",
    "aver = tot / len(score)   # 没记住len函数\n",
    "\n",
    "print(\"总分：\",tot)    # 两行输出类型不同，不打逗号\n",
    "print(\"平均分：\",aver)"
   ]
  },
  {
   "cell_type": "markdown",
   "metadata": {},
   "source": [
    "# 查询Jupiter notebook文件保存的目录"
   ]
  },
  {
   "cell_type": "code",
   "execution_count": 1,
   "metadata": {},
   "outputs": [
    {
     "name": "stdout",
     "output_type": "stream",
     "text": [
      "C:\\Users\\HAOER\\Documents\n"
     ]
    }
   ],
   "source": [
    "import os\n",
    "print(os.path.abspath(\".\"))"
   ]
  },
  {
   "cell_type": "markdown",
   "metadata": {},
   "source": []
  },
  {
   "cell_type": "code",
   "execution_count": null,
   "metadata": {},
   "outputs": [],
   "source": []
  },
  {
   "cell_type": "markdown",
   "metadata": {},
   "source": []
  },
  {
   "cell_type": "code",
   "execution_count": null,
   "metadata": {},
   "outputs": [],
   "source": []
  }
 ],
 "metadata": {
  "kernelspec": {
   "display_name": "Python 3",
   "language": "python",
   "name": "python3"
  },
  "language_info": {
   "codemirror_mode": {
    "name": "ipython",
    "version": 3
   },
   "file_extension": ".py",
   "mimetype": "text/x-python",
   "name": "python",
   "nbconvert_exporter": "python",
   "pygments_lexer": "ipython3",
   "version": "3.7.4"
  }
 },
 "nbformat": 4,
 "nbformat_minor": 2
}
