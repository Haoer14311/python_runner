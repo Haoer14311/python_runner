{
 "cells": [
  {
   "cell_type": "markdown",
   "metadata": {},
   "source": [
    "# 一.字符串中的真假\n",
    "- 字符串中如果有内容（包括空格），那么这个字符串是true\n",
    "- 字符串是空的则是false\n",
    "- 空字符串则打印不出来\n",
    "- 例如"
   ]
  },
  {
   "cell_type": "code",
   "execution_count": 30,
   "metadata": {},
   "outputs": [
    {
     "name": "stdout",
     "output_type": "stream",
     "text": [
      "1\n",
      "二\n",
      "2\n",
      "三\n",
      "3\n"
     ]
    }
   ],
   "source": [
    "var1 = \"\" #字符串空\n",
    "if var1:\n",
    "    print(\"一\")\n",
    "print(\"1\")\n",
    "\n",
    "var2 = \" \" #字符串内有空格\n",
    "if var2:\n",
    "    print(\"二\")\n",
    "print(\"2\")\n",
    "\n",
    "var3 = \"字符串\" #字符串有文字\n",
    "if var3:\n",
    "    print(\"三\")\n",
    "print(\"3\")\n"
   ]
  },
  {
   "cell_type": "markdown",
   "metadata": {},
   "source": [
    "# 二.Python的数字特点\n",
    "- 在Python中，小一些的数字（一般情况-5到256数值之间）系统已经帮我们放置好，不必再开拓内存存放。\n",
    "- 以此，在这些范围内的数字相等是true，过大的数字相等是false。\n"
   ]
  },
  {
   "cell_type": "markdown",
   "metadata": {},
   "source": [
    "- 例1："
   ]
  },
  {
   "cell_type": "code",
   "execution_count": 26,
   "metadata": {},
   "outputs": [
    {
     "name": "stdout",
     "output_type": "stream",
     "text": [
      "True\n"
     ]
    }
   ],
   "source": [
    "a = 136\n",
    "b = 136\n",
    "aa = a is b #身份运算符\n",
    "print(aa)"
   ]
  },
  {
   "cell_type": "markdown",
   "metadata": {},
   "source": [
    "a = 136 = b"
   ]
  },
  {
   "cell_type": "markdown",
   "metadata": {},
   "source": [
    "- 例2："
   ]
  },
  {
   "cell_type": "code",
   "execution_count": 25,
   "metadata": {},
   "outputs": [
    {
     "name": "stdout",
     "output_type": "stream",
     "text": [
      "False\n"
     ]
    }
   ],
   "source": [
    "a = 16792\n",
    "b = 16782\n",
    "bb = a is b\n",
    "print(bb)"
   ]
  },
  {
   "cell_type": "markdown",
   "metadata": {},
   "source": [
    "16792 = a | != | b = 16792 \n",
    "        --|:--: |       --:"
   ]
  },
  {
   "cell_type": "markdown",
   "metadata": {},
   "source": [
    "# 三.逻辑运算符中的坑。\n",
    "- （短路问题）\n",
    "- and 、or"
   ]
  },
  {
   "cell_type": "markdown",
   "metadata": {},
   "source": [
    "# 四.程序的三种结构。\n",
    "1.顺序\n",
    "\n",
    "2.循环 -- for、range、while\n",
    "\n",
    "3.分支 -- if（不推荐用嵌套使用）例如：\n"
   ]
  },
  {
   "cell_type": "markdown",
   "metadata": {},
   "source": [
    "- 例1："
   ]
  },
  {
   "cell_type": "code",
   "execution_count": 35,
   "metadata": {
    "scrolled": true
   },
   "outputs": [
    {
     "name": "stdout",
     "output_type": "stream",
     "text": [
      "请输入你的成绩90\n",
      "B\n"
     ]
    }
   ],
   "source": [
    "sc=input(\"请输入你的成绩\")\n",
    "sc = float(sc)\n",
    "if sc > 90:\n",
    "    print(\"A\")\n",
    "elif sc >= 80:\n",
    "    print(\"B\")\n"
   ]
  },
  {
   "cell_type": "markdown",
   "metadata": {},
   "source": [
    "例2："
   ]
  },
  {
   "cell_type": "code",
   "execution_count": 36,
   "metadata": {},
   "outputs": [
    {
     "name": "stdout",
     "output_type": "stream",
     "text": [
      "请输入你的成绩90\n",
      "A\n"
     ]
    }
   ],
   "source": [
    "sc=input(\"请输入你的成绩\")\n",
    "sc = float(sc)\n",
    "if sc >= 90:\n",
    "    print(\"A\")\n",
    "elif sc >= 80:\n",
    "    print(\"B\")\n"
   ]
  },
  {
   "cell_type": "markdown",
   "metadata": {},
   "source": [
    "例3："
   ]
  },
  {
   "cell_type": "code",
   "execution_count": 23,
   "metadata": {},
   "outputs": [
    {
     "name": "stdout",
     "output_type": "stream",
     "text": [
      "请输入你的成绩85\n",
      "B\n"
     ]
    }
   ],
   "source": [
    "sc=input(\"请输入你的成绩\")\n",
    "sc = float(sc)\n",
    "if sc >= 90:\n",
    "    print(\"A\")\n",
    "else:\n",
    "    print(\"B\")\n"
   ]
  }
 ],
 "metadata": {
  "kernelspec": {
   "display_name": "Python 3",
   "language": "python",
   "name": "python3"
  },
  "language_info": {
   "codemirror_mode": {
    "name": "ipython",
    "version": 3
   },
   "file_extension": ".py",
   "mimetype": "text/x-python",
   "name": "python",
   "nbconvert_exporter": "python",
   "pygments_lexer": "ipython3",
   "version": "3.7.4"
  }
 },
 "nbformat": 4,
 "nbformat_minor": 2
}
