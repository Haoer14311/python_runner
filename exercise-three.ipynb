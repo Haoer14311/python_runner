{
 "cells": [
  {
   "cell_type": "code",
   "execution_count": 9,
   "metadata": {},
   "outputs": [
    {
     "name": "stdout",
     "output_type": "stream",
     "text": [
      "100的16进制 = 64\n",
      "100的8进制 = 144\n",
      " \n"
     ]
    }
   ],
   "source": [
    "x = 100\n",
    "\n",
    "print(\"100的16进制 = %x\\n100的8进制 = %o\\n \"%(x,x))"
   ]
  },
  {
   "cell_type": "markdown",
   "metadata": {},
   "source": [
    "# for嵌套用法："
   ]
  },
  {
   "cell_type": "code",
   "execution_count": 6,
   "metadata": {
    "scrolled": true
   },
   "outputs": [
    {
     "name": "stdout",
     "output_type": "stream",
     "text": [
      "1 \n",
      "2 4 \n",
      "3 6 9 \n",
      "4 8 12 16 \n",
      "5 10 15 20 25 \n",
      "6 12 18 24 30 36 \n",
      "7 14 21 28 35 42 49 \n",
      "8 16 24 32 40 48 56 64 \n",
      "9 18 27 36 45 54 63 72 81 \n"
     ]
    }
   ],
   "source": [
    "for i in range(1,10):\n",
    "    for o in range(1,10):\n",
    "        if o <= i:\n",
    "            print(i*o, end = \" \")\n",
    "        else:\n",
    "            None\n",
    "    print()"
   ]
  },
  {
   "cell_type": "markdown",
   "metadata": {},
   "source": [
    "# format巧妙运用-字典"
   ]
  },
  {
   "cell_type": "code",
   "execution_count": 14,
   "metadata": {},
   "outputs": [
    {
     "ename": "SyntaxError",
     "evalue": "unexpected character after line continuation character (<ipython-input-14-87ccf58cd99a>, line 5)",
     "output_type": "error",
     "traceback": [
      "\u001b[1;36m  File \u001b[1;32m\"<ipython-input-14-87ccf58cd99a>\"\u001b[1;36m, line \u001b[1;32m5\u001b[0m\n\u001b[1;33m    a_dict = {\"thch\":\"梨花\"\\\"me\":\"才子天\"\\\"url\":\"汕职院\"}\u001b[0m\n\u001b[1;37m                                                 ^\u001b[0m\n\u001b[1;31mSyntaxError\u001b[0m\u001b[1;31m:\u001b[0m unexpected character after line continuation character\n"
     ]
    }
   ],
   "source": [
    "var = \"我是{thch}的学生\\\n",
    "学校的{me}最帅\\\n",
    "我们的网址是{url}！\"\n",
    "\n",
    "a_dict = {\"thch\":\"梨花\"\\\"me\":\"才子天\"\\\"url\":\"汕职院\"}\n",
    "\n",
    "var = var.format(**a_dict)\n",
    "\n",
    "print(var)\n"
   ]
  }
 ],
 "metadata": {
  "kernelspec": {
   "display_name": "Python 3",
   "language": "python",
   "name": "python3"
  },
  "language_info": {
   "codemirror_mode": {
    "name": "ipython",
    "version": 3
   },
   "file_extension": ".py",
   "mimetype": "text/x-python",
   "name": "python",
   "nbconvert_exporter": "python",
   "pygments_lexer": "ipython3",
   "version": "3.7.4"
  }
 },
 "nbformat": 4,
 "nbformat_minor": 2
}
