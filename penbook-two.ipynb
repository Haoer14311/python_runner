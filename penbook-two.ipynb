{
 "cells": [
  {
   "cell_type": "markdown",
   "metadata": {},
   "source": [
    "# 一 for...else 语句\n",
    "- for 循环完之后执行else\n",
    "- 但for...else语句必要性不大，完全处于锦上添花。"
   ]
  },
  {
   "cell_type": "markdown",
   "metadata": {},
   "source": [
    "- 例1："
   ]
  },
  {
   "cell_type": "code",
   "execution_count": 2,
   "metadata": {},
   "outputs": [
    {
     "name": "stdout",
     "output_type": "stream",
     "text": [
      "5\n",
      "9\n",
      "7\n",
      "你已完成筛选\n"
     ]
    }
   ],
   "source": [
    "vars = [5,9,1,7,3,]\n",
    "for var in vars:\n",
    "    if var >= 4:\n",
    "        print(var)\n",
    "else:\n",
    "    print(\"你已完成筛选\")"
   ]
  },
  {
   "cell_type": "markdown",
   "metadata": {},
   "source": [
    "- 例2："
   ]
  },
  {
   "cell_type": "code",
   "execution_count": 3,
   "metadata": {},
   "outputs": [
    {
     "name": "stdout",
     "output_type": "stream",
     "text": [
      "5\n",
      "9\n",
      "7\n",
      "你已完成筛选\n"
     ]
    }
   ],
   "source": [
    "vars = [5,9,1,7,3,]\n",
    "for var in vars:\n",
    "    if var >= 4:\n",
    "        print(var)\n",
    "print(\"你已完成筛选\")"
   ]
  },
  {
   "cell_type": "markdown",
   "metadata": {},
   "source": [
    "# 二 break 跳出循环\n"
   ]
  },
  {
   "cell_type": "markdown",
   "metadata": {},
   "source": [
    "- 例："
   ]
  },
  {
   "cell_type": "code",
   "execution_count": 7,
   "metadata": {},
   "outputs": [
    {
     "name": "stdout",
     "output_type": "stream",
     "text": [
      "1\n",
      "2\n",
      "4\n",
      "6\n",
      "找到了\n"
     ]
    }
   ],
   "source": [
    "dig_list = [1,2,4,6,7,5]\n",
    "\n",
    "for dig in dig_list:\n",
    "    if dig == 7:\n",
    "        print(\"找到了\")\n",
    "        break\n",
    "    else:\n",
    "        print(dig)"
   ]
  },
  {
   "cell_type": "markdown",
   "metadata": {},
   "source": [
    "# 三 continue ---- 立即结束本轮循环，执行下一轮循环。"
   ]
  },
  {
   "cell_type": "code",
   "execution_count": 8,
   "metadata": {},
   "outputs": [
    {
     "name": "stdout",
     "output_type": "stream",
     "text": [
      "2\n",
      "你是双数\n",
      "4\n",
      "你是双数\n",
      "6\n",
      "你是双数\n"
     ]
    }
   ],
   "source": [
    "for dig in dig_list:\n",
    "    if dig % 2 == 1:\n",
    "        continue\n",
    "    print(dig)\n",
    "    print(\"你是双数\")\n",
    "    "
   ]
  },
  {
   "cell_type": "markdown",
   "metadata": {},
   "source": [
    "# 四 pass 占位符，没有实际意义，也没有跳过功能。"
   ]
  },
  {
   "cell_type": "code",
   "execution_count": null,
   "metadata": {},
   "outputs": [],
   "source": []
  },
  {
   "cell_type": "markdown",
   "metadata": {},
   "source": [
    "# 五 while 循环\n",
    "-例子："
   ]
  },
  {
   "cell_type": "code",
   "execution_count": 10,
   "metadata": {},
   "outputs": [
    {
     "name": "stdout",
     "output_type": "stream",
     "text": [
      "11\n"
     ]
    }
   ],
   "source": [
    "money = 10000\n",
    "year = 0\n",
    "interest = 0.067 \n",
    "\n",
    "while money < 20000:\n",
    "    money = money *(1+interest)\n",
    "    year += 1\n",
    "print(year)"
   ]
  },
  {
   "cell_type": "markdown",
   "metadata": {},
   "source": [
    "- while 和 for 的区别：\n",
    "  - for 是有明确的循环个数，而 while 却是无限循环。"
   ]
  }
 ],
 "metadata": {
  "kernelspec": {
   "display_name": "Python 3",
   "language": "python",
   "name": "python3"
  },
  "language_info": {
   "codemirror_mode": {
    "name": "ipython",
    "version": 3
   },
   "file_extension": ".py",
   "mimetype": "text/x-python",
   "name": "python",
   "nbconvert_exporter": "python",
   "pygments_lexer": "ipython3",
   "version": "3.7.4"
  }
 },
 "nbformat": 4,
 "nbformat_minor": 2
}
