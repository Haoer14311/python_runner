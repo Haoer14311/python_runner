{
 "cells": [
  {
   "cell_type": "code",
   "execution_count": 4,
   "metadata": {},
   "outputs": [],
   "source": [
    "chinese=[1] \n",
    "math=[1]  \n",
    "english=[1]\n",
    "sum = chinese[0] + math[0] + english[0]\n",
    "    "
   ]
  },
  {
   "cell_type": "markdown",
   "metadata": {},
   "source": [
    "# 进制"
   ]
  },
  {
   "cell_type": "markdown",
   "metadata": {},
   "source": [
    "## 二进制"
   ]
  },
  {
   "cell_type": "code",
   "execution_count": 3,
   "metadata": {},
   "outputs": [
    {
     "name": "stdout",
     "output_type": "stream",
     "text": [
      "0b1100100\n",
      "0b110111\n",
      "0b100101011\n",
      "0b110001111\n",
      "0b1010110\n"
     ]
    }
   ],
   "source": [
    "def shuzi(y=100):\n",
    "    \n",
    "    x = y\n",
    "\n",
    "    print(bin(x))\n",
    "\n",
    "shuzi()\n",
    "\n",
    "shuzi(55)\n",
    "\n",
    "shuzi(299)\n",
    "\n",
    "shuzi(399)\n",
    "\n",
    "shuzi(86)\n"
   ]
  },
  {
   "cell_type": "markdown",
   "metadata": {},
   "source": [
    "## 八进制"
   ]
  },
  {
   "cell_type": "code",
   "execution_count": 4,
   "metadata": {},
   "outputs": [
    {
     "name": "stdout",
     "output_type": "stream",
     "text": [
      "0o144\n",
      "0o144\n",
      "0o144\n",
      "0o144\n",
      "0o144\n"
     ]
    }
   ],
   "source": [
    "def shuzi(y=100):\n",
    "    \n",
    "    x=100\n",
    "    print(oct(x))\n",
    "    \n",
    "shuzi()\n",
    "\n",
    "shuzi(55)\n",
    "\n",
    "shuzi(299)\n",
    "\n",
    "shuzi(399)\n",
    "\n",
    "shuzi(86)\n"
   ]
  },
  {
   "cell_type": "markdown",
   "metadata": {},
   "source": [
    "## 十六进制"
   ]
  },
  {
   "cell_type": "code",
   "execution_count": 16,
   "metadata": {},
   "outputs": [
    {
     "name": "stdout",
     "output_type": "stream",
     "text": [
      "0x64\n",
      "0x37\n",
      "0x12b\n",
      "0x18f\n",
      "0x56\n"
     ]
    }
   ],
   "source": [
    "def shuzi(y=100):\n",
    "   \n",
    "    x = y\n",
    "    \n",
    "    print(hex(x))\n",
    "    \n",
    "    \n",
    "shuzi()\n",
    "\n",
    "shuzi(55)\n",
    "\n",
    "shuzi(299)\n",
    "\n",
    "shuzi(399)\n",
    "\n",
    "shuzi(86)"
   ]
  },
  {
   "cell_type": "markdown",
   "metadata": {},
   "source": [
    "## 十进制"
   ]
  },
  {
   "cell_type": "code",
   "execution_count": 18,
   "metadata": {},
   "outputs": [
    {
     "name": "stdout",
     "output_type": "stream",
     "text": [
      "242\n",
      "32099\n",
      "11185083\n"
     ]
    }
   ],
   "source": [
    "x = 0b11110010\n",
    "\n",
    "print (x)\n",
    "\n",
    "\n",
    "x = 0o76543\n",
    "\n",
    "print (x)\n",
    "\n",
    "x=0xaaabbb\n",
    "\n",
    "print (x)"
   ]
  },
  {
   "cell_type": "markdown",
   "metadata": {},
   "source": [
    "# a = 10   b = 8   c = 5"
   ]
  },
  {
   "cell_type": "code",
   "execution_count": 20,
   "metadata": {},
   "outputs": [
    {
     "name": "stdout",
     "output_type": "stream",
     "text": [
      "13\n",
      "18\n",
      "42\n",
      "10\n",
      "99600\n"
     ]
    }
   ],
   "source": [
    "a = 10  \n",
    "b = 8   \n",
    "c = 5\n",
    "\n",
    "s = a + b - c\n",
    "\n",
    "print(int(s))\n",
    "\n",
    "s = 2 * a + 3 - c\n",
    "\n",
    "print(int(s))\n",
    "\n",
    "s = b * c + 20 / b\n",
    "\n",
    "print(int(s))\n",
    "\n",
    "s = a % c * b + 10\n",
    "\n",
    "print(int(s))\n",
    "\n",
    "s = a ** c - a * b * c\n",
    "\n",
    "print(int(s))"
   ]
  }
 ],
 "metadata": {
  "kernelspec": {
   "display_name": "Python 3",
   "language": "python",
   "name": "python3"
  },
  "language_info": {
   "codemirror_mode": {
    "name": "ipython",
    "version": 3
   },
   "file_extension": ".py",
   "mimetype": "text/x-python",
   "name": "python",
   "nbconvert_exporter": "python",
   "pygments_lexer": "ipython3",
   "version": "3.7.4"
  }
 },
 "nbformat": 4,
 "nbformat_minor": 2
}
