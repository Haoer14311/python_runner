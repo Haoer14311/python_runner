{
 "cells": [
  {
   "cell_type": "markdown",
   "metadata": {},
   "source": [
    "#  多项成绩统计器"
   ]
  },
  {
   "cell_type": "code",
   "execution_count": 18,
   "metadata": {},
   "outputs": [
    {
     "name": "stdout",
     "output_type": "stream",
     "text": [
      "请输入人数1\n",
      "请输入语文分数1\n"
     ]
    },
    {
     "ename": "TypeError",
     "evalue": "'float' object is not callable",
     "output_type": "error",
     "traceback": [
      "\u001b[1;31m---------------------------------------------------------------------------\u001b[0m",
      "\u001b[1;31mTypeError\u001b[0m                                 Traceback (most recent call last)",
      "\u001b[1;32m<ipython-input-18-11f3cf4a98ef>\u001b[0m in \u001b[0;36m<module>\u001b[1;34m\u001b[0m\n\u001b[0;32m     11\u001b[0m     \u001b[0mchinese\u001b[0m\u001b[1;33m.\u001b[0m\u001b[0mappend\u001b[0m\u001b[1;33m(\u001b[0m\u001b[0mscore\u001b[0m\u001b[1;33m)\u001b[0m\u001b[1;33m\u001b[0m\u001b[1;33m\u001b[0m\u001b[0m\n\u001b[0;32m     12\u001b[0m \u001b[1;33m\u001b[0m\u001b[0m\n\u001b[1;32m---> 13\u001b[1;33m \u001b[0mtot\u001b[0m \u001b[1;33m=\u001b[0m \u001b[0msum\u001b[0m \u001b[1;33m(\u001b[0m\u001b[0mchinese\u001b[0m\u001b[1;33m)\u001b[0m\u001b[1;33m\u001b[0m\u001b[1;33m\u001b[0m\u001b[0m\n\u001b[0m\u001b[0;32m     14\u001b[0m \u001b[0maver\u001b[0m \u001b[1;33m=\u001b[0m \u001b[0mtot\u001b[0m \u001b[1;33m/\u001b[0m \u001b[0mx\u001b[0m\u001b[1;33m\u001b[0m\u001b[1;33m\u001b[0m\u001b[0m\n\u001b[0;32m     15\u001b[0m \u001b[1;33m\u001b[0m\u001b[0m\n",
      "\u001b[1;31mTypeError\u001b[0m: 'float' object is not callable"
     ]
    }
   ],
   "source": [
    "chinese = []\n",
    "math = []\n",
    "english = []\n",
    "\n",
    "x =  input(\"请输入人数\") \n",
    "x = int(x)\n",
    "\n",
    "for i in range (1,x+1):\n",
    "    score = input(\"请输入语文分数\")\n",
    "    score = float(score)\n",
    "    chinese.append(score)\n",
    "    \n",
    "tot = sum (chinese)\n",
    "aver = tot / x\n",
    "    \n",
    "\n",
    "\"\"\"   \n",
    "for i in range (1,x+1):\n",
    "    score = input(\"请输入数学分数\")\n",
    "    score = float(score)\n",
    "    math.append(score)\n",
    "    \n",
    "tot1 = sum(math)\n",
    "aver1 = tot1 / x \n",
    "\n",
    "\n",
    "\n",
    "for i in range (1,x+1):\n",
    "    score = input(\"请输入英语分数\")\n",
    "    score = float(score)\n",
    "    english.append(score)\n",
    "    \n",
    "\n",
    "\n",
    "tot2 = sum(english)\n",
    "\n",
    "aver2 = tot2 / x \n",
    "\n",
    "\n",
    "\n",
    "\n",
    "\n",
    "print(\"语文总分\",tot,  \"数学总分\",tot1,  \"英语总分\",tot2)\n",
    "print(\"语文平均分\",aver,  \"数学平均分\",aver1,  \"英语平均分\",aver2)\n",
    "\n",
    "\n",
    "for o in range (1,x+1):\n",
    "    sum1 = chinese[o-1] + math[o-1] + english[o-1]\n",
    "    \n",
    "print(\"学生成绩依次是\",sum1)\n",
    "\"\"\""
   ]
  }
 ],
 "metadata": {
  "kernelspec": {
   "display_name": "Python 3",
   "language": "python",
   "name": "python3"
  },
  "language_info": {
   "codemirror_mode": {
    "name": "ipython",
    "version": 3
   },
   "file_extension": ".py",
   "mimetype": "text/x-python",
   "name": "python",
   "nbconvert_exporter": "python",
   "pygments_lexer": "ipython3",
   "version": "3.7.4"
  }
 },
 "nbformat": 4,
 "nbformat_minor": 2
}
